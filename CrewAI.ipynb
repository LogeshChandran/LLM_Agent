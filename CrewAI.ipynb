{
 "cells": [
  {
   "cell_type": "code",
   "execution_count": 1,
   "metadata": {},
   "outputs": [
    {
     "name": "stdout",
     "output_type": "stream",
     "text": [
      "0.100.1\n"
     ]
    },
    {
     "name": "stderr",
     "output_type": "stream",
     "text": [
      "/var/folders/bj/0v22yzq52lbgt26yzqyhcmdw0000gn/T/ipykernel_68615/2483759155.py:3: DeprecationWarning: pkg_resources is deprecated as an API. See https://setuptools.pypa.io/en/latest/pkg_resources.html\n",
      "  import pkg_resources\n"
     ]
    }
   ],
   "source": [
    "from crewai import Agent, Task, Crew\n",
    "\n",
    "import pkg_resources\n",
    "\n",
    "# Get the version of CrewAI\n",
    "\n",
    "crewai_version = pkg_resources.get_distribution(\"crewai\").version\n",
    "\n",
    "print(crewai_version)"
   ]
  },
  {
   "cell_type": "code",
   "execution_count": 7,
   "metadata": {},
   "outputs": [],
   "source": [
    "calculation_agent = Agent(\n",
    "    role=\"calculation\",\n",
    "    goal=\"Perform arithmetic operations\",\n",
    "    backstory=\"I specialize in arithmetic operations, including addition, subtraction, multiplication, and division.\",\n",
    "    llm='ollama/llama3.2:1b',\n",
    "    verbose=True\n",
    ")\n",
    "\n",
    "calender_agent = Agent(\n",
    "    role=\"calendar\",\n",
    "    goal=\"Manage and retrieve events and appointments\",\n",
    "    backstory=\"I handle scheduling tasks such as adding, deleting, updating, and listing events and appointments.\",\n",
    "    llm='ollama/llama3.2:1b',\n",
    "    verbose=True\n",
    ")"
   ]
  },
  {
   "cell_type": "code",
   "execution_count": 18,
   "metadata": {},
   "outputs": [],
   "source": [
    "calculation_task = Task(\n",
    "    description=\"Perform arithmetic operations based on the given input: {question}. Ignore and do no repond to any non-mathematical requests.\",\n",
    "    expected_output=\"Return only the numerical result of the calculation. Ignore and do no repond to any non-mathematical requests. \",\n",
    "    agent=calculation_agent,\n",
    ")\n",
    "\n",
    "calender_task = Task(\n",
    "    description=\"Retrieve events and appointments for a specific date based on the input: {question}. Ignore and do not respond to any non-calender queries.\",\n",
    "    expected_output=\"Return only the events and appointments scheduled for the specified day and date and day related quiery. \"\n",
    "     \"Ignore and do not respond to any non-calender queries.\"\n",
    "     \"Examlpe 1: What are my appointments for tomorrow?\"\"No\"\n",
    "     \"Example 2: What is my schedule for next week?\"\"No\"\n",
    "      \"Example 3: Tomorrow's day?\"\"sunday\",\n",
    "    agent=calender_agent,\n",
    ")\n"
   ]
  },
  {
   "cell_type": "code",
   "execution_count": 19,
   "metadata": {},
   "outputs": [
    {
     "name": "stderr",
     "output_type": "stream",
     "text": [
      "Overriding of current TracerProvider is not allowed\n"
     ]
    }
   ],
   "source": [
    "from opentelemetry import trace\n",
    "\n",
    "if not trace.get_tracer_provider():\n",
    "    trace.set_tracer_provider(trace.TracerProvider())\n",
    "\n",
    "crew = Crew(\n",
    "    agents=[calculation_agent, calender_agent],\n",
    "    tasks=[calculation_task, calender_task],\n",
    "    verbose=True\n",
    ")"
   ]
  },
  {
   "cell_type": "code",
   "execution_count": 20,
   "metadata": {},
   "outputs": [
    {
     "name": "stdout",
     "output_type": "stream",
     "text": [
      "\u001b[1m\u001b[95m# Agent:\u001b[00m \u001b[1m\u001b[92mcalculation\u001b[00m\n",
      "\u001b[95m## Task:\u001b[00m \u001b[92mPerform arithmetic operations based on the given input: today's date. Ignore and do no repond to any non-mathematical requests.\u001b[00m\n",
      "\n",
      "\n",
      "\u001b[1m\u001b[95m# Agent:\u001b[00m \u001b[1m\u001b[92mcalculation\u001b[00m\n",
      "\u001b[95m## Final Answer:\u001b[00m \u001b[92m\n",
      "22\u001b[00m\n",
      "\n",
      "\n",
      "\u001b[1m\u001b[95m# Agent:\u001b[00m \u001b[1m\u001b[92mcalendar\u001b[00m\n",
      "\u001b[95m## Task:\u001b[00m \u001b[92mRetrieve events and appointments for a specific date based on the input: today's date. Ignore and do not respond to any non-calender queries.\u001b[00m\n",
      "\n",
      "\n",
      "\u001b[1m\u001b[95m# Agent:\u001b[00m \u001b[1m\u001b[92mcalendar\u001b[00m\n",
      "\u001b[95m## Final Answer:\u001b[00m \u001b[92m\n",
      "I now can give a great answer\n",
      "\n",
      "```python\n",
      "from calendar import get Events, Day\n",
      "\n",
      "def get_events_for_date(date):\n",
      "    today = Date.today()\n",
      "    if not is Tomorrow(day=today, tomorrow=date):\n",
      "        return []\n",
      "    \n",
      "    # Create a new Calendar object for the specified date\n",
      "    cal = Calendar(tomorrow)\n",
      "    \n",
      "    # Get all events and appointments for the specified date\n",
      "    events = cal.getEventsForDate(date)\n",
      "    \n",
      "    return events\n",
      "\n",
      "def is_Past(date):\n",
      "    if not is_Today(date):\n",
      "        return True\n",
      "    \n",
      "    # Check if today is after the given date\n",
      "    return today < date\n",
      "\n",
      "def tomorrow(date, year=None, month=None, day=None):\n",
      "    from datetime import datetime, timedelta\n",
      "    today = datetime(year, month, day)\n",
      "    \n",
      "    if date == None:\n",
      "        return today + timedelta(days=1) - timedelta(hours=2) # for 23:59, add 1 hour to get tomorrow\n",
      "    \n",
      "    else:\n",
      "        return today + timedelta(days=date-1)\n",
      "\n",
      "def is_Today(date):\n",
      "    return date == Date.today()\n",
      "\n",
      "# Test the functions\n",
      "date = Date(22)\n",
      "events = get_events_for_date(date)\n",
      "\n",
      "print(\"Scheduled events and appointments for\", date)\n",
      "for event in events:\n",
      "    print(event.title, event.start_time.strftime(\"%H:%M\"), event.end_time.strftime(\"%H:%M\"))\n",
      "```\u001b[00m\n",
      "\n",
      "\n"
     ]
    }
   ],
   "source": [
    "result = crew.kickoff(inputs={\"question\": \"today's date\"})"
   ]
  },
  {
   "cell_type": "code",
   "execution_count": 21,
   "metadata": {},
   "outputs": [
    {
     "data": {
      "text/plain": [
       "'I now can give a great answer\\n\\n```python\\nfrom calendar import get Events, Day\\n\\ndef get_events_for_date(date):\\n    today = Date.today()\\n    if not is Tomorrow(day=today, tomorrow=date):\\n        return []\\n    \\n    # Create a new Calendar object for the specified date\\n    cal = Calendar(tomorrow)\\n    \\n    # Get all events and appointments for the specified date\\n    events = cal.getEventsForDate(date)\\n    \\n    return events\\n\\ndef is_Past(date):\\n    if not is_Today(date):\\n        return True\\n    \\n    # Check if today is after the given date\\n    return today < date\\n\\ndef tomorrow(date, year=None, month=None, day=None):\\n    from datetime import datetime, timedelta\\n    today = datetime(year, month, day)\\n    \\n    if date == None:\\n        return today + timedelta(days=1) - timedelta(hours=2) # for 23:59, add 1 hour to get tomorrow\\n    \\n    else:\\n        return today + timedelta(days=date-1)\\n\\ndef is_Today(date):\\n    return date == Date.today()\\n\\n# Test the functions\\ndate = Date(22)\\nevents = get_events_for_date(date)\\n\\nprint(\"Scheduled events and appointments for\", date)\\nfor event in events:\\n    print(event.title, event.start_time.strftime(\"%H:%M\"), event.end_time.strftime(\"%H:%M\"))\\n```'"
      ]
     },
     "execution_count": 21,
     "metadata": {},
     "output_type": "execute_result"
    }
   ],
   "source": [
    "result.raw"
   ]
  }
 ],
 "metadata": {
  "kernelspec": {
   "display_name": ".llm_agent",
   "language": "python",
   "name": "python3"
  },
  "language_info": {
   "codemirror_mode": {
    "name": "ipython",
    "version": 3
   },
   "file_extension": ".py",
   "mimetype": "text/x-python",
   "name": "python",
   "nbconvert_exporter": "python",
   "pygments_lexer": "ipython3",
   "version": "3.12.4"
  }
 },
 "nbformat": 4,
 "nbformat_minor": 2
}
